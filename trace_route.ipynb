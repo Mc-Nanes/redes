{
 "cells": [
  {
   "cell_type": "markdown",
   "metadata": {},
   "source": [
    "# Monitoramento de Rotas e Latência com TraceRoute e Ping\n",
    "## Redes de Computadores\n",
    "### Alunos: Leonardo de Oliveira Nanes, Gabriel Lázaro e Gabriel Calabrese \n",
    "\n",
    "Nesta apresentação, vamos explorar o conceito de **TraceRoute** com **Ping** imbutido para monitoramento de redes e visualização de hops, latência e perda de pacotes entre o host e o destino. Além disso, plotaremos as rotas geograficamente em um mapa interativo.\n",
    "\n",
    "---\n",
    "\n",
    "### Estrutura da apresentação:\n",
    "-  Introdução aos conceitos de TraceRoute e Ping.\n",
    "-  Implementação prática das ferramentas.\n",
    "-  Visualização das rotas no mapa.\n",
    "\n",
    "---"
   ]
  },
  {
   "cell_type": "markdown",
   "metadata": {},
   "source": [
    "## O que é TraceRoute?\n",
    "\n",
    "O **TraceRoute** é uma ferramenta de diagnóstico de redes que rastreia o caminho percorrido pelos pacotes de dados entre a origem (host) e o destino. Ele identifica os roteadores intermediários (hops) que os pacotes atravessam até chegar ao seu destino final.\n",
    "\n",
    "- **Funcionamento**: O TraceRoute envia pacotes com valores incrementais de TTL (Time to Live). Quando o TTL chega a 0, o roteador emite uma mensagem ICMP \"time exceeded\", revelando sua presença. Esse processo se repete até alcançar o destino final ou até o TTL máximo.\n",
    "\n",
    "---\n",
    "\n",
    "## O que é Ping?\n",
    "\n",
    "O **Ping** é uma ferramenta usada para testar a conectividade entre dois dispositivos em uma rede. Ele mede a latência (tempo de resposta) e a perda de pacotes. O Ping utiliza pacotes ICMP \"Echo Request\" e \"Echo Reply\" para testar se um dispositivo está acessível e para obter informações sobre o tempo de resposta.\n",
    "\n",
    "- **Latência**: Tempo que um pacote leva para ir até o destino e voltar.\n",
    "- **Perda de Pacotes**: Proporção de pacotes enviados que não receberam resposta.\n"
   ]
  },
  {
   "cell_type": "markdown",
   "metadata": {},
   "source": [
    "# IMPORTAÇÃO DE BIBLIOTECAS"
   ]
  },
  {
   "cell_type": "code",
   "execution_count": 1,
   "metadata": {},
   "outputs": [],
   "source": [
    "import socket\n",
    "import folium\n",
    "import requests\n",
    "import ipaddress\n",
    "import pingparsing"
   ]
  },
  {
   "cell_type": "markdown",
   "metadata": {},
   "source": [
    "## Funções: TraceRoute, Ping e Geolocalização\n",
    "\n",
    "Aqui estão as funções principais para realizar o TraceRoute com Ping e para obter as coordenadas dos IPs através de uma API pública.\n",
    "\n",
    "- `traceroute_with_ping`: Realiza o TraceRoute até o destino especificado, verificando a latência e perda de pacotes a cada hop.\n",
    "- `get_coordinates`: Obtém as coordenadas geográficas do IP usando uma API para plotagem de roteadores no mapa.\n",
    "- `is_private_ip`: Verifica se o IP é privado e, assim, não acessível por APIs públicas.\n"
   ]
  },
  {
   "cell_type": "markdown",
   "metadata": {},
   "source": [
    "# TRACEROUTE COM PING"
   ]
  },
  {
   "cell_type": "code",
   "execution_count": 11,
   "metadata": {},
   "outputs": [],
   "source": [
    "\n",
    "\n",
    "def traceroute_with_ping(host, max_hops=30, timeout=5, ping_count=4):\n",
    "    print(f\"TraceRoute para {host}:\")\n",
    "\n",
    "    hops = []\n",
    "    dest_addr = socket.gethostbyname(host)\n",
    "    port = 33434  \n",
    "    icmp = socket.getprotobyname('icmp')\n",
    "    udp = socket.getprotobyname('udp')\n",
    "    ping_parser = pingparsing.PingParsing()\n",
    "    transmitter = pingparsing.PingTransmitter()\n",
    "\n",
    "    for ttl in range(1, max_hops + 1):\n",
    "        recv_socket = socket.socket(socket.AF_INET, socket.SOCK_RAW, icmp)\n",
    "        send_socket = socket.socket(socket.AF_INET, socket.SOCK_DGRAM, udp)\n",
    "        send_socket.setsockopt(socket.SOL_IP, socket.IP_TTL, ttl)\n",
    "        recv_socket.settimeout(timeout)\n",
    "\n",
    "        recv_socket.bind((\"\", port))\n",
    "        send_socket.sendto(b\"\", (host, port))\n",
    "\n",
    "        curr_addr = None\n",
    "        try:\n",
    "            _, curr_addr = recv_socket.recvfrom(512)\n",
    "            curr_addr = curr_addr[0]\n",
    "            hops.append(curr_addr)\n",
    "\n",
    "            # Fazer ping no hop atual\n",
    "            transmitter.destination = curr_addr\n",
    "            transmitter.count = ping_count\n",
    "            ping_result = transmitter.ping()\n",
    "\n",
    "            if ping_result.returncode == 0:\n",
    "                ping_stats = ping_parser.parse(ping_result.stdout)\n",
    "\n",
    "                packet_loss = ping_stats.packet_loss_rate\n",
    "                packets_sent = ping_stats.packet_transmit\n",
    "                min_time = ping_stats.rtt_min\n",
    "                avg_time = ping_stats.rtt_avg\n",
    "                max_time = ping_stats.rtt_max\n",
    "                mdev_time = ping_stats.rtt_mdev\n",
    "\n",
    "                print(\n",
    "                    f\"{ttl}: {curr_addr} | Sent: {packets_sent} | Loss: {packet_loss} % | avg: {avg_time}ms | Best: {min_time}ms | Worst: {max_time}ms | Std.Dev: {mdev_time}\")\n",
    "            else:\n",
    "                print(f\"{ttl}: {curr_addr} | Erro no ping\")\n",
    "\n",
    "        except socket.timeout:\n",
    "            print(f\"{ttl}: * (timeout)\")\n",
    "        except socket.error as e:\n",
    "            print(f\"{ttl}: erro no socket - {e}\")\n",
    "        finally:\n",
    "            send_socket.close()\n",
    "            recv_socket.close()\n",
    "\n",
    "        if curr_addr == dest_addr:\n",
    "            print(\"Destino alcançado!\")\n",
    "            break\n",
    "    return hops"
   ]
  },
  {
   "cell_type": "markdown",
   "metadata": {},
   "source": [
    "# MAPA"
   ]
  },
  {
   "cell_type": "markdown",
   "metadata": {},
   "source": [
    "## Vendo se o IP é privado"
   ]
  },
  {
   "cell_type": "code",
   "execution_count": 12,
   "metadata": {},
   "outputs": [],
   "source": [
    "def is_private_ip(ip):\n",
    "    return ipaddress.ip_address(ip).is_private"
   ]
  },
  {
   "cell_type": "markdown",
   "metadata": {},
   "source": [
    "## Pegando as coordenadas"
   ]
  },
  {
   "cell_type": "code",
   "execution_count": 13,
   "metadata": {},
   "outputs": [],
   "source": [
    "def get_coordinates(ip):\n",
    "    if is_private_ip(ip):\n",
    "        print(f\"IP {ip} é privado. Sem coordenadas públicas conhecidas.\")\n",
    "        return None\n",
    "\n",
    "    try:\n",
    "        response = requests.get(f\"http://ip-api.com/json/{ip}\")\n",
    "        if response.status_code == 200:\n",
    "            data = response.json()\n",
    "            if data['status'] == 'success':\n",
    "                lat, lon = data['lat'], data['lon']\n",
    "                # Exibe as coordenadas no console\n",
    "                print(f\"Coordenadas de {ip}: ({lat}, {lon})\")\n",
    "                return lat, lon\n",
    "            else:\n",
    "                print(f\"API retornou falha para o IP {ip}: {data['message']}\")\n",
    "                return None\n",
    "        else:\n",
    "            print(\n",
    "                f\"Erro ao conectar-se à API para o IP {ip}. Status HTTP: {response.status_code}\")\n",
    "            return None\n",
    "\n",
    "    except requests.exceptions.RequestException as e:\n",
    "        print(f\"Erro de conexão ao tentar obter localização de {ip}: {e}\")\n",
    "        return None"
   ]
  },
  {
   "cell_type": "markdown",
   "metadata": {},
   "source": [
    "# PLOTANDO O MAPA"
   ]
  },
  {
   "cell_type": "code",
   "execution_count": 40,
   "metadata": {},
   "outputs": [],
   "source": [
    "from folium.plugins import TimestampedGeoJson\n",
    "from datetime import datetime,timedelta\n",
    "from numpy import random\n",
    "\n",
    "def jitter_coordinates(coords):\n",
    "    jitter = 0.02  # Pequeno deslocamento\n",
    "    return (coords[0] + random.uniform(-jitter, jitter), coords[1] + random.uniform(-jitter, jitter))\n",
    "\n",
    "\n",
    "def plot_route(hops):\n",
    "    linhas = []\n",
    "    data_inicial = datetime(2024, 1, 1, 0, 0, 0)  # Data inicial arbitrária\n",
    "    intervalo_tempo = timedelta(minutes=1)  # A cada salto, adicionar 1 minuto (ou o intervalo que desejar)\n",
    "    seen_coords = set()\n",
    "\n",
    "    def inverter_coordenada(coordenada):\n",
    "        latitude, longitude = coordenada\n",
    "        return longitude, latitude\n",
    "\n",
    "    for i, hop in enumerate(hops):\n",
    "        coords = get_coordinates(hop)\n",
    "        print(coords)\n",
    "        if coords:  # Verifica se coords não é None\n",
    "            coords = inverter_coordenada(coords)\n",
    "            if coords in seen_coords:\n",
    "                coords = jitter_coordinates(coords)\n",
    "                seen_coords.add(coords)\n",
    "            # Incrementa o tempo para cada salto\n",
    "            data_atual = data_inicial + i * intervalo_tempo\n",
    "            data_formatada = data_atual.isoformat() + \"Z\"  # Formata no padrão ISO 8601 (necessário para o TimestampedGeoJson)\n",
    "            linhas.append({\"coord\": coords, \"datas\": data_formatada})\n",
    "        else:\n",
    "            print(f\"Coordenadas não encontradas para o hop {hop}. Saltando este hop.\")\n",
    "\n",
    "    # Construir as features do mapa com as coordenadas coletadas\n",
    "    features = []\n",
    "    for i in range(len(linhas) - 1):  # Itera pelas linhas criando as conexões\n",
    "        feature = {\n",
    "            \"type\": \"Feature\",\n",
    "            \"geometry\": {\n",
    "                \"type\": \"LineString\",\n",
    "                \"coordinates\": [linhas[i][\"coord\"], linhas[i+1][\"coord\"]],\n",
    "                \"icon\": \"circle\",\n",
    "                \"iconstyle\": {\"fillColor\": \"#16BAB6\", \"fillOpacity\": 0.5, \"radius\": 2}  # Conecta o ponto i com o ponto i+1\n",
    "            },\n",
    "            \"properties\": {\n",
    "                \"times\": [linhas[i][\"datas\"], linhas[i + 1][\"datas\"]],\n",
    "                \"style\": {\"color\": \"#16BAB6\", \"weight\": 1},\n",
    "            }\n",
    "        }\n",
    "        features.append(feature)\n",
    "\n",
    "    # Criar o mapa com o ponto inicial sendo o primeiro hop\n",
    "    if linhas:\n",
    "        inicial_latlon = inverter_coordenada(linhas[0][\"coord\"])\n",
    "        mapa = folium.Map(location=inicial_latlon, tiles=\"OpenStreetMap\", zoom_start=5)\n",
    "        for i in range(len(linhas)):\n",
    "            folium.Marker(\n",
    "                location=inverter_coordenada(linhas[i][\"coord\"]), popup=f\"Hop {i+1}: Coordenadas: {inverter_coordenada(linhas[i]['coord'])}\").add_to(mapa)\n",
    "            \n",
    "        # Adicionar os dados de rota animados ao mapa\n",
    "        TimestampedGeoJson(\n",
    "            data={\"type\": \"FeatureCollection\", \"features\": features},\n",
    "            period=\"PT1M\",  # Tempo entre os \"frames\" da animação\n",
    "            add_last_point=True,  # Adiciona o último ponto\n",
    "            loop=False,\n",
    "            auto_play=True  # Habilita o auto play\n",
    "        ).add_to(mapa)\n",
    "        return mapa\n",
    "    else:\n",
    "        print(\"Nenhuma coordenada válida encontrada para exibir no mapa.\")\n",
    "        return None\n",
    "\n"
   ]
  },
  {
   "cell_type": "markdown",
   "metadata": {},
   "source": [
    "## Execução do Programa\n",
    "\n"
   ]
  },
  {
   "cell_type": "code",
   "execution_count": 41,
   "metadata": {},
   "outputs": [
    {
     "name": "stdout",
     "output_type": "stream",
     "text": [
      "TraceRoute para www.google.com:\n",
      "1: 192.168.64.1 | Erro no ping\n",
      "2: 192.168.0.1 | Sent: 4 | Loss: 0.0 % | avg: 3.015ms | Best: 2.724ms | Worst: 3.625ms | Std.Dev: 0.358\n",
      "3: 10.15.0.1 | Erro no ping\n",
      "4: 186.223.136.13 | Sent: 4 | Loss: 0.0 % | avg: 11.827ms | Best: 8.863ms | Worst: 14.001ms | Std.Dev: 2.104\n",
      "5: 189.22.193.45 | Sent: 4 | Loss: 0.0 % | avg: 14.257ms | Best: 12.899ms | Worst: 15.827ms | Std.Dev: 1.089\n",
      "6: * (timeout)\n",
      "7: * (timeout)\n",
      "8: 200.244.18.8 | Sent: 4 | Loss: 0.0 % | avg: 66.611ms | Best: 64.67ms | Worst: 68.581ms | Std.Dev: 1.438\n",
      "9: 201.39.52.58 | Sent: 4 | Loss: 0.0 % | avg: 68.237ms | Best: 67.839ms | Worst: 68.731ms | Std.Dev: 0.352\n",
      "10: * (timeout)\n",
      "11: * (timeout)\n",
      "12: 142.251.245.46 | Sent: 4 | Loss: 0.0 % | avg: 69.662ms | Best: 65.548ms | Worst: 76.036ms | Std.Dev: 3.917\n",
      "13: * (timeout)\n",
      "14: 192.178.97.123 | Sent: 4 | Loss: 0.0 % | avg: 60.746ms | Best: 58.644ms | Worst: 62.349ms | Std.Dev: 1.451\n",
      "15: * (timeout)\n",
      "16: * (timeout)\n",
      "17: * (timeout)\n",
      "18: * (timeout)\n",
      "19: * (timeout)\n",
      "20: * (timeout)\n",
      "21: * (timeout)\n",
      "22: * (timeout)\n",
      "23: * (timeout)\n",
      "24: * (timeout)\n",
      "25: * (timeout)\n",
      "26: * (timeout)\n",
      "27: * (timeout)\n",
      "28: * (timeout)\n",
      "29: * (timeout)\n",
      "30: * (timeout)\n",
      "hops  ['192.168.64.1', '192.168.0.1', '10.15.0.1', '186.223.136.13', '189.22.193.45', '200.244.18.8', '201.39.52.58', '142.251.245.46', '192.178.97.123']\n",
      "IP 192.168.64.1 é privado. Sem coordenadas públicas conhecidas.\n",
      "None\n",
      "Coordenadas não encontradas para o hop 192.168.64.1. Saltando este hop.\n",
      "IP 192.168.0.1 é privado. Sem coordenadas públicas conhecidas.\n",
      "None\n",
      "Coordenadas não encontradas para o hop 192.168.0.1. Saltando este hop.\n",
      "IP 10.15.0.1 é privado. Sem coordenadas públicas conhecidas.\n",
      "None\n",
      "Coordenadas não encontradas para o hop 10.15.0.1. Saltando este hop.\n",
      "Coordenadas de 186.223.136.13: (-8.0009, -34.8687)\n",
      "(-8.0009, -34.8687)\n",
      "Coordenadas de 189.22.193.45: (-23.5558, -46.6396)\n",
      "(-23.5558, -46.6396)\n",
      "Coordenadas de 200.244.18.8: (-22.9068, -43.1729)\n",
      "(-22.9068, -43.1729)\n",
      "Coordenadas de 201.39.52.58: (-23.5558, -46.6396)\n",
      "(-23.5558, -46.6396)\n",
      "Coordenadas de 142.251.245.46: (37.4225, -122.085)\n",
      "(37.4225, -122.085)\n",
      "Coordenadas de 192.178.97.123: (37.422, -122.084)\n",
      "(37.422, -122.084)\n"
     ]
    }
   ],
   "source": [
    "def main():\n",
    "    destino = input(\"Digite o IP ou endereço do host: \")\n",
    "    try:\n",
    "        hops = traceroute_with_ping(destino)\n",
    "        print(\"hops \", hops)\n",
    "        mapa = plot_route(hops)\n",
    "        mapa.save(\"mapa.html\")\n",
    "    except socket.gaierror:\n",
    "        print(f\"Erro: Host '{destino}' não encontrado. Verifique o endereço e tente novamente.\")\n",
    "    except Exception as e:\n",
    "        print(f\"Erro inesperado: {e}\")\n",
    "main()"
   ]
  }
 ],
 "metadata": {
  "kernelspec": {
   "display_name": "Python 3",
   "language": "python",
   "name": "python3"
  },
  "language_info": {
   "codemirror_mode": {
    "name": "ipython",
    "version": 3
   },
   "file_extension": ".py",
   "mimetype": "text/x-python",
   "name": "python",
   "nbconvert_exporter": "python",
   "pygments_lexer": "ipython3",
   "version": "3.10.12"
  }
 },
 "nbformat": 4,
 "nbformat_minor": 2
}
