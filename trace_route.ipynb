{
 "cells": [
  {
   "cell_type": "markdown",
   "metadata": {},
   "source": [
    "# Monitoramento de Rotas e Latência com TraceRoute e Ping\n",
    "## Redes de Computadores\n",
    "### Alunos: Leonardo de Oliveira Nanes, Gabriel Lázaro e Gabriel Calabrese \n",
    "\n",
    "Nesta apresentação, vamos explorar o conceito de **TraceRoute** com **Ping** imbutido para monitoramento de redes e visualização de hops, latência e perda de pacotes entre o host e o destino. Além disso, plotaremos as rotas geograficamente em um mapa interativo.\n",
    "\n",
    "---\n",
    "\n",
    "### Estrutura da apresentação:\n",
    "-  Introdução aos conceitos de TraceRoute e Ping.\n",
    "-  Implementação prática das ferramentas.\n",
    "-  Visualização das rotas no mapa.\n",
    "\n",
    "---"
   ]
  },
  {
   "cell_type": "markdown",
   "metadata": {},
   "source": [
    "## O que é TraceRoute?\n",
    "\n",
    "O **TraceRoute** é uma ferramenta de diagnóstico de redes que rastreia o caminho percorrido pelos pacotes de dados entre a origem (host) e o destino. Ele identifica os roteadores intermediários (hops) que os pacotes atravessam até chegar ao seu destino final.\n",
    "\n",
    "- **Funcionamento**: O TraceRoute envia pacotes com valores incrementais de TTL (Time to Live). Quando o TTL chega a 0, o roteador emite uma mensagem ICMP \"time exceeded\", revelando sua presença. Esse processo se repete até alcançar o destino final ou até o TTL máximo.\n",
    "\n",
    "---\n",
    "\n",
    "## O que é Ping?\n",
    "\n",
    "O **Ping** é uma ferramenta usada para testar a conectividade entre dois dispositivos em uma rede. Ele mede a latência (tempo de resposta) e a perda de pacotes. O Ping utiliza pacotes ICMP \"Echo Request\" e \"Echo Reply\" para testar se um dispositivo está acessível e para obter informações sobre o tempo de resposta.\n",
    "\n",
    "- **Latência**: Tempo que um pacote leva para ir até o destino e voltar.\n",
    "- **Perda de Pacotes**: Proporção de pacotes enviados que não receberam resposta.\n"
   ]
  },
  {
   "cell_type": "markdown",
   "metadata": {},
   "source": [
    "# IMPORTAÇÃO DE BIBLIOTECAS"
   ]
  },
  {
   "cell_type": "code",
   "execution_count": 1,
   "metadata": {},
   "outputs": [],
   "source": [
    "import socket\n",
    "import folium\n",
    "import requests\n",
    "import ipaddress\n",
    "import pingparsing"
   ]
  },
  {
   "cell_type": "markdown",
   "metadata": {},
   "source": [
    "## Funções: TraceRoute, Ping e Geolocalização\n",
    "\n",
    "Aqui estão as funções principais para realizar o TraceRoute com Ping e para obter as coordenadas dos IPs através de uma API pública.\n",
    "\n",
    "- `traceroute_with_ping`: Realiza o TraceRoute até o destino especificado, verificando a latência e perda de pacotes a cada hop.\n",
    "- `get_coordinates`: Obtém as coordenadas geográficas do IP usando uma API para plotagem de roteadores no mapa.\n",
    "- `is_private_ip`: Verifica se o IP é privado e, assim, não acessível por APIs públicas.\n"
   ]
  },
  {
   "cell_type": "markdown",
   "metadata": {},
   "source": [
    "# TRACEROUTE COM PING"
   ]
  },
  {
   "cell_type": "code",
   "execution_count": null,
   "metadata": {},
   "outputs": [],
   "source": [
    "\n",
    "\n",
    "def traceroute_with_ping(host, max_hops=30, timeout=2, ping_count=4):\n",
    "    print(f\"TraceRoute para {host}:\")\n",
    "\n",
    "    hops = []\n",
    "    dest_addr = socket.gethostbyname(host)\n",
    "    port = 33434  \n",
    "    icmp = socket.getprotobyname('icmp')\n",
    "    udp = socket.getprotobyname('udp')\n",
    "    ping_parser = pingparsing.PingParsing()\n",
    "    transmitter = pingparsing.PingTransmitter()\n",
    "\n",
    "    for ttl in range(1, max_hops + 1):\n",
    "        recv_socket = socket.socket(socket.AF_INET, socket.SOCK_RAW, icmp)\n",
    "        send_socket = socket.socket(socket.AF_INET, socket.SOCK_DGRAM, udp)\n",
    "        send_socket.setsockopt(socket.SOL_IP, socket.IP_TTL, ttl)\n",
    "        recv_socket.settimeout(timeout)\n",
    "\n",
    "        recv_socket.bind((\"\", port))\n",
    "        send_socket.sendto(b\"\", (host, port))\n",
    "\n",
    "        curr_addr = None\n",
    "        try:\n",
    "            _, curr_addr = recv_socket.recvfrom(512)\n",
    "            curr_addr = curr_addr[0]\n",
    "            hops.append(curr_addr)\n",
    "\n",
    "            # Fazer ping no hop atual\n",
    "            transmitter.destination = curr_addr\n",
    "            transmitter.count = ping_count\n",
    "            ping_result = transmitter.ping()\n",
    "\n",
    "            if ping_result.returncode == 0:\n",
    "                ping_stats = ping_parser.parse(ping_result.stdout)\n",
    "\n",
    "                packet_loss = ping_stats.packet_loss_rate\n",
    "                packets_sent = ping_stats.packet_transmit\n",
    "                min_time = ping_stats.rtt_min\n",
    "                avg_time = ping_stats.rtt_avg\n",
    "                max_time = ping_stats.rtt_max\n",
    "                mdev_time = ping_stats.rtt_mdev\n",
    "\n",
    "                print(\n",
    "                    f\"{ttl}: {curr_addr} | Sent: {packets_sent} | Loss: {packet_loss} % | avg: {avg_time}ms | Best: {min_time}ms | Worst: {max_time}ms | Std.Dev: {mdev_time}\")\n",
    "            else:\n",
    "                print(f\"{ttl}: {curr_addr} | Erro no ping\")\n",
    "\n",
    "        except socket.timeout:\n",
    "            print(f\"{ttl}: * (timeout)\")\n",
    "        except socket.error as e:\n",
    "            print(f\"{ttl}: erro no socket - {e}\")\n",
    "        finally:\n",
    "            send_socket.close()\n",
    "            recv_socket.close()\n",
    "\n",
    "        if curr_addr == dest_addr:\n",
    "            print(\"Destino alcançado!\")\n",
    "            break\n",
    "    return hops"
   ]
  },
  {
   "cell_type": "markdown",
   "metadata": {},
   "source": [
    "# MAPA"
   ]
  },
  {
   "cell_type": "markdown",
   "metadata": {},
   "source": [
    "## Vendo se o IP é privado"
   ]
  },
  {
   "cell_type": "code",
   "execution_count": null,
   "metadata": {},
   "outputs": [],
   "source": [
    "def is_private_ip(ip):\n",
    "    return ipaddress.ip_address(ip).is_private"
   ]
  },
  {
   "cell_type": "markdown",
   "metadata": {},
   "source": [
    "## Pegando as coordenadas"
   ]
  },
  {
   "cell_type": "code",
   "execution_count": null,
   "metadata": {},
   "outputs": [],
   "source": [
    "def get_coordinates(ip):\n",
    "    if is_private_ip(ip):\n",
    "        print(f\"IP {ip} é privado. Sem coordenadas públicas conhecidas.\")\n",
    "        return None\n",
    "\n",
    "    try:\n",
    "        response = requests.get(f\"http://ip-api.com/json/{ip}\")\n",
    "        if response.status_code == 200:\n",
    "            data = response.json()\n",
    "            if data['status'] == 'success':\n",
    "                lat, lon = data['lat'], data['lon']\n",
    "                # Exibe as coordenadas no console\n",
    "                print(f\"Coordenadas de {ip}: ({lat}, {lon})\")\n",
    "                return lat, lon\n",
    "            else:\n",
    "                print(f\"API retornou falha para o IP {ip}: {data['message']}\")\n",
    "                return None\n",
    "        else:\n",
    "            print(\n",
    "                f\"Erro ao conectar-se à API para o IP {ip}. Status HTTP: {response.status_code}\")\n",
    "            return None\n",
    "\n",
    "    except requests.exceptions.RequestException as e:\n",
    "        print(f\"Erro de conexão ao tentar obter localização de {ip}: {e}\")\n",
    "        return None"
   ]
  },
  {
   "cell_type": "markdown",
   "metadata": {},
   "source": [
    "# PLOTANDO O MAPA"
   ]
  },
  {
   "cell_type": "code",
   "execution_count": null,
   "metadata": {},
   "outputs": [],
   "source": [
    "\n",
    "\n",
    "\n"
   ]
  },
  {
   "cell_type": "markdown",
   "metadata": {},
   "source": [
    "## Execução do Programa\n",
    "\n"
   ]
  },
  {
   "cell_type": "code",
   "execution_count": null,
   "metadata": {},
   "outputs": [],
   "source": [
    "def main():\n",
    "    destino = input(\"Digite o IP ou endereço do host: \")\n",
    "    try:\n",
    "        hops = traceroute_with_ping(destino)\n",
    "        #if hops:\n",
    "           # plot_route(hops)\n",
    "       # else:\n",
    "          #  print(\"Não foi possível rastrear a rota.\")\n",
    "    except socket.gaierror:\n",
    "        print(f\"Erro: Host '{destino}' não encontrado. Verifique o endereço e tente novamente.\")\n",
    "    except Exception as e:\n",
    "        print(f\"Erro inesperado: {e}\")\n",
    "\n",
    "main()\n"
   ]
  }
 ],
 "metadata": {
  "kernelspec": {
   "display_name": "Python 3",
   "language": "python",
   "name": "python3"
  },
  "language_info": {
   "codemirror_mode": {
    "name": "ipython",
    "version": 3
   },
   "file_extension": ".py",
   "mimetype": "text/x-python",
   "name": "python",
   "nbconvert_exporter": "python",
   "pygments_lexer": "ipython3",
   "version": "3.10.12"
  }
 },
 "nbformat": 4,
 "nbformat_minor": 2
}
