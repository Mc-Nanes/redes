{
 "cells": [
  {
   "cell_type": "markdown",
   "metadata": {},
   "source": [
    "# Monitoramento de Rotas e Latência com TraceRoute e Ping\n",
    "## Redes de Computadores\n",
    "### Alunos: Leonardo de Oliveira Nanes, Gabriel Lázaro e Gabriel Calabrese \n",
    "\n",
    "Nesta apresentação, vamos explorar o conceito de **TraceRoute** com **Ping** imbutido para monitoramento de redes e visualização de hops, latência e perda de pacotes entre o host e o destino. Além disso, plotaremos as rotas geograficamente em um mapa interativo.\n",
    "\n",
    "---\n",
    "\n",
    "### Estrutura da apresentação:\n",
    "-  Introdução aos conceitos de TraceRoute e Ping.\n",
    "-  Implementação prática das ferramentas.\n",
    "-  Visualização das rotas no mapa.\n",
    "\n",
    "---"
   ]
  },
  {
   "cell_type": "markdown",
   "metadata": {},
   "source": [
    "## O que é TraceRoute?\n",
    "\n",
    "O **TraceRoute** é uma ferramenta de diagnóstico de redes que rastreia o caminho percorrido pelos pacotes de dados entre a origem (host) e o destino. Ele identifica os roteadores intermediários (hops) que os pacotes atravessam até chegar ao seu destino final.\n",
    "\n",
    "- **Funcionamento**: O TraceRoute envia pacotes com valores incrementais de TTL (Time to Live). Quando o TTL chega a 0, o roteador emite uma mensagem ICMP \"time exceeded\", revelando sua presença. Esse processo se repete até alcançar o destino final ou até o TTL máximo.\n",
    "\n",
    "---\n",
    "\n",
    "## O que é Ping?\n",
    "\n",
    "O **Ping** é uma ferramenta usada para testar a conectividade entre dois dispositivos em uma rede. Ele mede a latência (tempo de resposta) e a perda de pacotes. O Ping utiliza pacotes ICMP \"Echo Request\" e \"Echo Reply\" para testar se um dispositivo está acessível e para obter informações sobre o tempo de resposta.\n",
    "\n",
    "- **Latência**: Tempo que um pacote leva para ir até o destino e voltar.\n",
    "- **Perda de Pacotes**: Proporção de pacotes enviados que não receberam resposta.\n"
   ]
  },
  {
   "cell_type": "markdown",
   "metadata": {},
   "source": [
    "# IMPORTAÇÃO DE BIBLIOTECAS"
   ]
  },
  {
   "cell_type": "code",
   "execution_count": 37,
   "metadata": {},
   "outputs": [],
   "source": [
    "import socket\n",
    "import folium\n",
    "import requests\n",
    "import ipaddress\n",
    "import pingparsing\n"
   ]
  },
  {
   "cell_type": "markdown",
   "metadata": {},
   "source": [
    "## Funções: TraceRoute, Ping e Geolocalização\n",
    "\n",
    "Aqui estão as funções principais para realizar o TraceRoute com Ping e para obter as coordenadas dos IPs através de uma API pública.\n",
    "\n",
    "- `traceroute_with_ping`: Realiza o TraceRoute até o destino especificado, verificando a latência e perda de pacotes a cada hop.\n",
    "- `get_coordinates`: Obtém as coordenadas geográficas do IP usando uma API para plotagem de roteadores no mapa.\n",
    "- `is_private_ip`: Verifica se o IP é privado e, assim, não acessível por APIs públicas.\n"
   ]
  },
  {
   "cell_type": "markdown",
   "metadata": {},
   "source": [
    "# TRACEROUTE COM PING"
   ]
  },
  {
   "cell_type": "code",
   "execution_count": 38,
   "metadata": {},
   "outputs": [],
   "source": [
    "\n",
    "\n",
    "def traceroute_with_ping(host, max_hops=30, timeout=2, ping_count=4):\n",
    "    print(f\"TraceRoute para {host}:\")\n",
    "\n",
    "    hops = []\n",
    "    dest_addr = socket.gethostbyname(host)\n",
    "    port = 33434  \n",
    "    icmp = socket.getprotobyname('icmp')\n",
    "    udp = socket.getprotobyname('udp')\n",
    "    ping_parser = pingparsing.PingParsing()\n",
    "    transmitter = pingparsing.PingTransmitter()\n",
    "\n",
    "    for ttl in range(1, max_hops + 1):\n",
    "        recv_socket = socket.socket(socket.AF_INET, socket.SOCK_RAW, icmp)\n",
    "        send_socket = socket.socket(socket.AF_INET, socket.SOCK_DGRAM, udp)\n",
    "        send_socket.setsockopt(socket.SOL_IP, socket.IP_TTL, ttl)\n",
    "        recv_socket.settimeout(timeout)\n",
    "\n",
    "        recv_socket.bind((\"\", port))\n",
    "        send_socket.sendto(b\"\", (host, port))\n",
    "\n",
    "        curr_addr = None\n",
    "        try:\n",
    "            _, curr_addr = recv_socket.recvfrom(512)\n",
    "            curr_addr = curr_addr[0]\n",
    "            hops.append(curr_addr)\n",
    "\n",
    "            # Fazer ping no hop atual\n",
    "            transmitter.destination = curr_addr\n",
    "            transmitter.count = ping_count\n",
    "            ping_result = transmitter.ping()\n",
    "\n",
    "            if ping_result.returncode == 0:\n",
    "                ping_stats = ping_parser.parse(ping_result.stdout)\n",
    "\n",
    "                packet_loss = ping_stats.packet_loss_rate\n",
    "                packets_sent = ping_stats.packet_transmit\n",
    "                min_time = ping_stats.rtt_min\n",
    "                avg_time = ping_stats.rtt_avg\n",
    "                max_time = ping_stats.rtt_max\n",
    "                mdev_time = ping_stats.rtt_mdev\n",
    "\n",
    "                print(\n",
    "                    f\"{ttl}: {curr_addr} | Sent: {packets_sent} | Loss: {packet_loss} % | avg: {avg_time}ms | Best: {min_time}ms | Worst: {max_time}ms | Std.Dev: {mdev_time}\")\n",
    "            else:\n",
    "                print(f\"{ttl}: {curr_addr} | Erro no ping\")\n",
    "\n",
    "        except socket.timeout:\n",
    "            print(f\"{ttl}: * (timeout)\")\n",
    "        except socket.error as e:\n",
    "            print(f\"{ttl}: erro no socket - {e}\")\n",
    "        finally:\n",
    "            send_socket.close()\n",
    "            recv_socket.close()\n",
    "\n",
    "        if curr_addr == dest_addr:\n",
    "            print(\"Destino alcançado!\")\n",
    "            break\n",
    "    return hops"
   ]
  },
  {
   "cell_type": "markdown",
   "metadata": {},
   "source": [
    "# MAPA"
   ]
  },
  {
   "cell_type": "markdown",
   "metadata": {},
   "source": [
    "## Vendo se o IP é privado"
   ]
  },
  {
   "cell_type": "code",
   "execution_count": 39,
   "metadata": {},
   "outputs": [],
   "source": [
    "def is_private_ip(ip):\n",
    "    return ipaddress.ip_address(ip).is_private"
   ]
  },
  {
   "cell_type": "markdown",
   "metadata": {},
   "source": [
    "## Pegando as coordenadas"
   ]
  },
  {
   "cell_type": "code",
   "execution_count": 40,
   "metadata": {},
   "outputs": [],
   "source": [
    "def get_coordinates(ip):\n",
    "    if is_private_ip(ip):\n",
    "        print(f\"IP {ip} é privado. Sem coordenadas públicas conhecidas.\")\n",
    "        return None\n",
    "\n",
    "    try:\n",
    "        response = requests.get(f\"http://ip-api.com/json/{ip}\")\n",
    "        if response.status_code == 200:\n",
    "            data = response.json()\n",
    "            if data['status'] == 'success':\n",
    "                lat, lon = data['lat'], data['lon']\n",
    "                # Exibe as coordenadas no console\n",
    "                print(f\"Coordenadas de {ip}: ({lat}, {lon})\")\n",
    "                return lat, lon\n",
    "            else:\n",
    "                print(f\"API retornou falha para o IP {ip}: {data['message']}\")\n",
    "                return None\n",
    "        else:\n",
    "            print(\n",
    "                f\"Erro ao conectar-se à API para o IP {ip}. Status HTTP: {response.status_code}\")\n",
    "            return None\n",
    "\n",
    "    except requests.exceptions.RequestException as e:\n",
    "        print(f\"Erro de conexão ao tentar obter localização de {ip}: {e}\")\n",
    "        return None"
   ]
  },
  {
   "cell_type": "markdown",
   "metadata": {},
   "source": [
    "# PLOTANDO O MAPA"
   ]
  },
  {
   "cell_type": "code",
   "execution_count": 41,
   "metadata": {},
   "outputs": [],
   "source": [
    "from folium.plugins import TimestampedGeoJson\n",
    "from datetime import datetime,timedelta\n",
    "\n",
    "\n",
    "def plot_route(hops):\n",
    "    linhas = []\n",
    "    data_inicial = datetime(2024, 1, 1, 0, 0, 0)  # Data inicial arbitrária\n",
    "    intervalo_tempo = timedelta(minutes=1)  # A cada salto, adicionar 1 minuto (ou o intervalo que desejar)\n",
    "\n",
    "    def inverter_coordenada(coordenada):\n",
    "        latitude, longitude = coordenada\n",
    "        return longitude, latitude\n",
    "\n",
    "    for i, hop in enumerate(hops):\n",
    "        coords = get_coordinates(hop)\n",
    "        if coords:  # Verifica se coords não é None\n",
    "            coords = inverter_coordenada(coords)\n",
    "            # Incrementa o tempo para cada salto\n",
    "            data_atual = data_inicial + i * intervalo_tempo\n",
    "            data_formatada = data_atual.isoformat() + \"Z\"  # Formata no padrão ISO 8601 (necessário para o TimestampedGeoJson)\n",
    "            linhas.append({\"coord\": coords, \"datas\": data_formatada})\n",
    "        else:\n",
    "            print(f\"Coordenadas não encontradas para o hop {hop}. Saltando este hop.\")\n",
    "\n",
    "    # Construir as features do mapa com as coordenadas coletadas\n",
    "    features = []\n",
    "    for i in range(len(linhas) - 1):  # Itera pelas linhas criando as conexões\n",
    "        feature = {\n",
    "            \"type\": \"Feature\",\n",
    "            \"geometry\": {\n",
    "                \"type\": \"LineString\",\n",
    "                \"coordinates\": [linhas[i][\"coord\"], linhas[i+1][\"coord\"]]  # Conecta o ponto i com o ponto i+1\n",
    "            },\n",
    "            \"properties\": {\n",
    "                \"times\": [linhas[i][\"datas\"], linhas[i + 1][\"datas\"]],\n",
    "                \"style\": {\"color\": \"#16BAB6\", \"weight\": 3},\n",
    "                \"icon\": \"circle\",\n",
    "                \"iconstyle\": {\"fillColor\": \"#16BAB6\", \"fillOpacity\": 0.6, \"radius\": 20}\n",
    "            }\n",
    "        }\n",
    "        features.append(feature)\n",
    "\n",
    "    # Criar o mapa com o ponto inicial sendo o primeiro hop\n",
    "    if linhas:\n",
    "        inicial_latlon = linhas[0][\"coord\"]\n",
    "        mapa = folium.Map(location=inicial_latlon, tiles=\"cartodbpositron\", zoom_start=5)\n",
    "\n",
    "        # Adicionar os dados de rota animados ao mapa\n",
    "        TimestampedGeoJson(\n",
    "            data={\"type\": \"FeatureCollection\", \"features\": features},\n",
    "            period=\"PT1M\",  # Tempo entre os \"frames\" da animação\n",
    "            add_last_point=True,  # Adiciona o último ponto\n",
    "            loop=False,\n",
    "            auto_play=True  # Habilita o auto play\n",
    "        ).add_to(mapa)\n",
    "        return mapa\n",
    "    else:\n",
    "        print(\"Nenhuma coordenada válida encontrada para exibir no mapa.\")\n",
    "        return None\n",
    "\n"
   ]
  },
  {
   "cell_type": "markdown",
   "metadata": {},
   "source": [
    "## Execução do Programa\n",
    "\n"
   ]
  },
  {
   "cell_type": "code",
   "execution_count": 42,
   "metadata": {},
   "outputs": [
    {
     "name": "stdout",
     "output_type": "stream",
     "text": [
      "TraceRoute para google.com:\n",
      "1: 172.19.32.1 | Sent: 4 | Loss: 0.0 % | avg: 0.195ms | Best: 0.169ms | Worst: 0.233ms | Std.Dev: 0.024\n",
      "2: 192.168.15.1 | Sent: 4 | Loss: 0.0 % | avg: 0.856ms | Best: 0.703ms | Worst: 1.031ms | Std.Dev: 0.128\n",
      "3: * (timeout)\n",
      "4: 201.1.224.38 | Sent: 4 | Loss: 0.0 % | avg: 5.206ms | Best: 2.405ms | Worst: 11.981ms | Std.Dev: 3.925\n",
      "5: 152.255.197.26 | Erro no ping\n",
      "6: 152.255.152.15 | Erro no ping\n",
      "7: 152.255.160.241 | Erro no ping\n",
      "8: * (timeout)\n",
      "9: 72.14.243.38 | Sent: 4 | Loss: 0.0 % | avg: 60.435ms | Best: 59.612ms | Worst: 61.011ms | Std.Dev: 0.524\n",
      "10: * (timeout)\n",
      "11: 216.239.42.204 | Sent: 4 | Loss: 0.0 % | avg: 60.69ms | Best: 60.635ms | Worst: 60.779ms | Std.Dev: 0.054\n",
      "12: 142.251.48.153 | Sent: 4 | Loss: 0.0 % | avg: 58.966ms | Best: 58.718ms | Worst: 59.287ms | Std.Dev: 0.234\n",
      "13: 192.178.99.117 | Sent: 4 | Loss: 0.0 % | avg: 59.87ms | Best: 59.353ms | Worst: 60.568ms | Std.Dev: 0.439\n",
      "14: 142.250.78.238 | Sent: 4 | Loss: 0.0 % | avg: 60.222ms | Best: 59.733ms | Worst: 61.207ms | Std.Dev: 0.581\n",
      "Destino alcançado!\n",
      "hops  ['172.19.32.1', '192.168.15.1', '201.1.224.38', '152.255.197.26', '152.255.152.15', '152.255.160.241', '72.14.243.38', '216.239.42.204', '142.251.48.153', '192.178.99.117', '142.250.78.238']\n",
      "IP 172.19.32.1 é privado. Sem coordenadas públicas conhecidas.\n",
      "Coordenadas não encontradas para o hop 172.19.32.1. Saltando este hop.\n",
      "IP 192.168.15.1 é privado. Sem coordenadas públicas conhecidas.\n",
      "Coordenadas não encontradas para o hop 192.168.15.1. Saltando este hop.\n",
      "Coordenadas de 201.1.224.38: (-23.6283, -46.6409)\n",
      "Coordenadas de 152.255.197.26: (-23.5558, -46.6396)\n",
      "Coordenadas de 152.255.152.15: (-23.5558, -46.6396)\n",
      "Coordenadas de 152.255.160.241: (-23.5558, -46.6396)\n",
      "Coordenadas de 72.14.243.38: (37.9186, -121.3132)\n",
      "Coordenadas de 216.239.42.204: (37.3526, -121.9541)\n",
      "Coordenadas de 142.251.48.153: (37.4225, -122.085)\n",
      "Coordenadas de 192.178.99.117: (37.422, -122.084)\n",
      "Coordenadas de 142.250.78.238: (40.694, -73.822)\n"
     ]
    }
   ],
   "source": [
    "def main():\n",
    "    destino = input(\"Digite o IP ou endereço do host: \")\n",
    "    try:\n",
    "        hops = traceroute_with_ping(destino)\n",
    "        print(\"hops \", hops)\n",
    "        mapa = plot_route(hops)\n",
    "        mapa.save(\"mapa.html\")\n",
    "    except socket.gaierror:\n",
    "        print(f\"Erro: Host '{destino}' não encontrado. Verifique o endereço e tente novamente.\")\n",
    "    except Exception as e:\n",
    "        print(f\"Erro inesperado: {e}\")\n",
    "main()"
   ]
  }
 ],
 "metadata": {
  "kernelspec": {
   "display_name": "Python 3",
   "language": "python",
   "name": "python3"
  },
  "language_info": {
   "codemirror_mode": {
    "name": "ipython",
    "version": 3
   },
   "file_extension": ".py",
   "mimetype": "text/x-python",
   "name": "python",
   "nbconvert_exporter": "python",
   "pygments_lexer": "ipython3",
   "version": "3.10.12"
  }
 },
 "nbformat": 4,
 "nbformat_minor": 2
}
